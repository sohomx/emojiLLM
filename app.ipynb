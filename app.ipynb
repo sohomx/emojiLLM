{
  "nbformat": 4,
  "nbformat_minor": 0,
  "metadata": {
    "colab": {
      "provenance": [],
      "machine_shape": "hm",
      "gpuType": "L4"
    },
    "kernelspec": {
      "name": "python3",
      "display_name": "Python 3"
    },
    "language_info": {
      "name": "python"
    },
    "accelerator": "GPU"
  },
  "cells": [
    {
      "cell_type": "code",
      "source": [
        "!pip install git+https://github.com/stanfordnlp/pyreft.git"
      ],
      "metadata": {
        "colab": {
          "base_uri": "https://localhost:8080/"
        },
        "id": "WLNkbqzZPUf4",
        "outputId": "479fe552-14d9-4e55-b8b0-e12e5f8328a7"
      },
      "execution_count": 9,
      "outputs": [
        {
          "output_type": "stream",
          "name": "stdout",
          "text": [
            "Collecting git+https://github.com/stanfordnlp/pyreft.git\n",
            "  Cloning https://github.com/stanfordnlp/pyreft.git to /tmp/pip-req-build-mbqk5glm\n",
            "  Running command git clone --filter=blob:none --quiet https://github.com/stanfordnlp/pyreft.git /tmp/pip-req-build-mbqk5glm\n",
            "  Resolved https://github.com/stanfordnlp/pyreft.git to commit 432dc64d01ff80002c6e83bfdaeb55710bf6a80a\n",
            "  Running command git submodule update --init --recursive -q\n",
            "  Preparing metadata (setup.py) ... \u001b[?25l\u001b[?25hdone\n",
            "Requirement already satisfied: torch>=2.0.0 in /usr/local/lib/python3.10/dist-packages (from pyreft==0.0.5) (2.3.0+cu121)\n",
            "Requirement already satisfied: pyvene>=0.1.1 in /usr/local/lib/python3.10/dist-packages (from pyreft==0.0.5) (0.1.1)\n",
            "Requirement already satisfied: transformers>=4.39.3 in /usr/local/lib/python3.10/dist-packages (from pyreft==0.0.5) (4.40.2)\n",
            "Requirement already satisfied: protobuf>=3.20.0 in /usr/local/lib/python3.10/dist-packages (from pyreft==0.0.5) (3.20.3)\n",
            "Requirement already satisfied: matplotlib>=3.7.4 in /usr/local/lib/python3.10/dist-packages (from pyreft==0.0.5) (3.8.4)\n",
            "Requirement already satisfied: ipywidgets>=8.1.1 in /usr/local/lib/python3.10/dist-packages (from pyreft==0.0.5) (8.1.3)\n",
            "Requirement already satisfied: plotnine>=0.12.4 in /usr/local/lib/python3.10/dist-packages (from pyreft==0.0.5) (0.12.4)\n",
            "Requirement already satisfied: huggingface-hub>=0.20.3 in /usr/local/lib/python3.10/dist-packages (from pyreft==0.0.5) (0.20.3)\n",
            "Requirement already satisfied: numpy>=1.26.4 in /usr/local/lib/python3.10/dist-packages (from pyreft==0.0.5) (1.26.4)\n",
            "Requirement already satisfied: accelerate>=0.29.1 in /usr/local/lib/python3.10/dist-packages (from pyreft==0.0.5) (0.30.1)\n",
            "Requirement already satisfied: sentencepiece>=0.1.96 in /usr/local/lib/python3.10/dist-packages (from pyreft==0.0.5) (0.1.99)\n",
            "Requirement already satisfied: evaluate>=0.4.1 in /usr/local/lib/python3.10/dist-packages (from pyreft==0.0.5) (0.4.2)\n",
            "Requirement already satisfied: datasets>=2.18.0 in /usr/local/lib/python3.10/dist-packages (from pyreft==0.0.5) (2.18.0)\n",
            "Requirement already satisfied: wandb in /usr/local/lib/python3.10/dist-packages (from pyreft==0.0.5) (0.17.0)\n",
            "Requirement already satisfied: scikit-learn in /usr/local/lib/python3.10/dist-packages (from pyreft==0.0.5) (1.2.2)\n",
            "Requirement already satisfied: jupyter in /usr/local/lib/python3.10/dist-packages (from pyreft==0.0.5) (1.0.0)\n",
            "Requirement already satisfied: fsspec>=2024.2.0 in /usr/local/lib/python3.10/dist-packages (from pyreft==0.0.5) (2024.2.0)\n",
            "Requirement already satisfied: ydata-profiling>=4.7.0 in /usr/local/lib/python3.10/dist-packages (from pyreft==0.0.5) (4.8.3)\n",
            "Requirement already satisfied: seaborn==0.12.2 in /usr/local/lib/python3.10/dist-packages (from pyreft==0.0.5) (0.12.2)\n",
            "Requirement already satisfied: gcsfs>=2024.2.0 in /usr/local/lib/python3.10/dist-packages (from pyreft==0.0.5) (2024.2.0)\n",
            "Requirement already satisfied: pandas>=0.25 in /usr/local/lib/python3.10/dist-packages (from seaborn==0.12.2->pyreft==0.0.5) (2.0.3)\n",
            "Requirement already satisfied: packaging>=20.0 in /usr/local/lib/python3.10/dist-packages (from accelerate>=0.29.1->pyreft==0.0.5) (24.0)\n",
            "Requirement already satisfied: psutil in /usr/local/lib/python3.10/dist-packages (from accelerate>=0.29.1->pyreft==0.0.5) (5.9.5)\n",
            "Requirement already satisfied: pyyaml in /usr/local/lib/python3.10/dist-packages (from accelerate>=0.29.1->pyreft==0.0.5) (6.0.1)\n",
            "Requirement already satisfied: safetensors>=0.3.1 in /usr/local/lib/python3.10/dist-packages (from accelerate>=0.29.1->pyreft==0.0.5) (0.4.3)\n",
            "Requirement already satisfied: filelock in /usr/local/lib/python3.10/dist-packages (from datasets>=2.18.0->pyreft==0.0.5) (3.14.0)\n",
            "Requirement already satisfied: pyarrow>=12.0.0 in /usr/local/lib/python3.10/dist-packages (from datasets>=2.18.0->pyreft==0.0.5) (14.0.2)\n",
            "Requirement already satisfied: pyarrow-hotfix in /usr/local/lib/python3.10/dist-packages (from datasets>=2.18.0->pyreft==0.0.5) (0.6)\n",
            "Requirement already satisfied: dill<0.3.9,>=0.3.0 in /usr/local/lib/python3.10/dist-packages (from datasets>=2.18.0->pyreft==0.0.5) (0.3.8)\n",
            "Requirement already satisfied: requests>=2.19.0 in /usr/local/lib/python3.10/dist-packages (from datasets>=2.18.0->pyreft==0.0.5) (2.31.0)\n",
            "Requirement already satisfied: tqdm>=4.62.1 in /usr/local/lib/python3.10/dist-packages (from datasets>=2.18.0->pyreft==0.0.5) (4.66.4)\n",
            "Requirement already satisfied: xxhash in /usr/local/lib/python3.10/dist-packages (from datasets>=2.18.0->pyreft==0.0.5) (3.4.1)\n",
            "Requirement already satisfied: multiprocess in /usr/local/lib/python3.10/dist-packages (from datasets>=2.18.0->pyreft==0.0.5) (0.70.16)\n",
            "Requirement already satisfied: aiohttp in /usr/local/lib/python3.10/dist-packages (from datasets>=2.18.0->pyreft==0.0.5) (3.9.5)\n",
            "Requirement already satisfied: decorator>4.1.2 in /usr/local/lib/python3.10/dist-packages (from gcsfs>=2024.2.0->pyreft==0.0.5) (4.4.2)\n",
            "Requirement already satisfied: google-auth>=1.2 in /usr/local/lib/python3.10/dist-packages (from gcsfs>=2024.2.0->pyreft==0.0.5) (2.27.0)\n",
            "Requirement already satisfied: google-auth-oauthlib in /usr/local/lib/python3.10/dist-packages (from gcsfs>=2024.2.0->pyreft==0.0.5) (1.2.0)\n",
            "Requirement already satisfied: google-cloud-storage in /usr/local/lib/python3.10/dist-packages (from gcsfs>=2024.2.0->pyreft==0.0.5) (2.8.0)\n",
            "Requirement already satisfied: typing-extensions>=3.7.4.3 in /usr/local/lib/python3.10/dist-packages (from huggingface-hub>=0.20.3->pyreft==0.0.5) (4.11.0)\n",
            "Requirement already satisfied: comm>=0.1.3 in /usr/local/lib/python3.10/dist-packages (from ipywidgets>=8.1.1->pyreft==0.0.5) (0.2.2)\n",
            "Requirement already satisfied: ipython>=6.1.0 in /usr/local/lib/python3.10/dist-packages (from ipywidgets>=8.1.1->pyreft==0.0.5) (7.34.0)\n",
            "Requirement already satisfied: traitlets>=4.3.1 in /usr/local/lib/python3.10/dist-packages (from ipywidgets>=8.1.1->pyreft==0.0.5) (5.7.1)\n",
            "Requirement already satisfied: widgetsnbextension~=4.0.11 in /usr/local/lib/python3.10/dist-packages (from ipywidgets>=8.1.1->pyreft==0.0.5) (4.0.11)\n",
            "Requirement already satisfied: jupyterlab-widgets~=3.0.11 in /usr/local/lib/python3.10/dist-packages (from ipywidgets>=8.1.1->pyreft==0.0.5) (3.0.11)\n",
            "Requirement already satisfied: contourpy>=1.0.1 in /usr/local/lib/python3.10/dist-packages (from matplotlib>=3.7.4->pyreft==0.0.5) (1.2.1)\n",
            "Requirement already satisfied: cycler>=0.10 in /usr/local/lib/python3.10/dist-packages (from matplotlib>=3.7.4->pyreft==0.0.5) (0.12.1)\n",
            "Requirement already satisfied: fonttools>=4.22.0 in /usr/local/lib/python3.10/dist-packages (from matplotlib>=3.7.4->pyreft==0.0.5) (4.51.0)\n",
            "Requirement already satisfied: kiwisolver>=1.3.1 in /usr/local/lib/python3.10/dist-packages (from matplotlib>=3.7.4->pyreft==0.0.5) (1.4.5)\n",
            "Requirement already satisfied: pillow>=8 in /usr/local/lib/python3.10/dist-packages (from matplotlib>=3.7.4->pyreft==0.0.5) (9.4.0)\n",
            "Requirement already satisfied: pyparsing>=2.3.1 in /usr/local/lib/python3.10/dist-packages (from matplotlib>=3.7.4->pyreft==0.0.5) (3.1.2)\n",
            "Requirement already satisfied: python-dateutil>=2.7 in /usr/local/lib/python3.10/dist-packages (from matplotlib>=3.7.4->pyreft==0.0.5) (2.8.2)\n",
            "Requirement already satisfied: mizani<0.10.0,>0.9.0 in /usr/local/lib/python3.10/dist-packages (from plotnine>=0.12.4->pyreft==0.0.5) (0.9.3)\n",
            "Requirement already satisfied: patsy>=0.5.1 in /usr/local/lib/python3.10/dist-packages (from plotnine>=0.12.4->pyreft==0.0.5) (0.5.6)\n",
            "Requirement already satisfied: scipy>=1.5.0 in /usr/local/lib/python3.10/dist-packages (from plotnine>=0.12.4->pyreft==0.0.5) (1.11.4)\n",
            "Requirement already satisfied: statsmodels>=0.14.0 in /usr/local/lib/python3.10/dist-packages (from plotnine>=0.12.4->pyreft==0.0.5) (0.14.2)\n",
            "Requirement already satisfied: sympy in /usr/local/lib/python3.10/dist-packages (from torch>=2.0.0->pyreft==0.0.5) (1.12)\n",
            "Requirement already satisfied: networkx in /usr/local/lib/python3.10/dist-packages (from torch>=2.0.0->pyreft==0.0.5) (3.3)\n",
            "Requirement already satisfied: jinja2 in /usr/local/lib/python3.10/dist-packages (from torch>=2.0.0->pyreft==0.0.5) (3.1.4)\n",
            "Requirement already satisfied: nvidia-cuda-nvrtc-cu12==12.1.105 in /usr/local/lib/python3.10/dist-packages (from torch>=2.0.0->pyreft==0.0.5) (12.1.105)\n",
            "Requirement already satisfied: nvidia-cuda-runtime-cu12==12.1.105 in /usr/local/lib/python3.10/dist-packages (from torch>=2.0.0->pyreft==0.0.5) (12.1.105)\n",
            "Requirement already satisfied: nvidia-cuda-cupti-cu12==12.1.105 in /usr/local/lib/python3.10/dist-packages (from torch>=2.0.0->pyreft==0.0.5) (12.1.105)\n",
            "Requirement already satisfied: nvidia-cudnn-cu12==8.9.2.26 in /usr/local/lib/python3.10/dist-packages (from torch>=2.0.0->pyreft==0.0.5) (8.9.2.26)\n",
            "Requirement already satisfied: nvidia-cublas-cu12==12.1.3.1 in /usr/local/lib/python3.10/dist-packages (from torch>=2.0.0->pyreft==0.0.5) (12.1.3.1)\n",
            "Requirement already satisfied: nvidia-cufft-cu12==11.0.2.54 in /usr/local/lib/python3.10/dist-packages (from torch>=2.0.0->pyreft==0.0.5) (11.0.2.54)\n",
            "Requirement already satisfied: nvidia-curand-cu12==10.3.2.106 in /usr/local/lib/python3.10/dist-packages (from torch>=2.0.0->pyreft==0.0.5) (10.3.2.106)\n",
            "Requirement already satisfied: nvidia-cusolver-cu12==11.4.5.107 in /usr/local/lib/python3.10/dist-packages (from torch>=2.0.0->pyreft==0.0.5) (11.4.5.107)\n",
            "Requirement already satisfied: nvidia-cusparse-cu12==12.1.0.106 in /usr/local/lib/python3.10/dist-packages (from torch>=2.0.0->pyreft==0.0.5) (12.1.0.106)\n",
            "Requirement already satisfied: nvidia-nccl-cu12==2.20.5 in /usr/local/lib/python3.10/dist-packages (from torch>=2.0.0->pyreft==0.0.5) (2.20.5)\n",
            "Requirement already satisfied: nvidia-nvtx-cu12==12.1.105 in /usr/local/lib/python3.10/dist-packages (from torch>=2.0.0->pyreft==0.0.5) (12.1.105)\n",
            "Requirement already satisfied: triton==2.3.0 in /usr/local/lib/python3.10/dist-packages (from torch>=2.0.0->pyreft==0.0.5) (2.3.0)\n",
            "Requirement already satisfied: nvidia-nvjitlink-cu12 in /usr/local/lib/python3.10/dist-packages (from nvidia-cusolver-cu12==11.4.5.107->torch>=2.0.0->pyreft==0.0.5) (12.5.40)\n",
            "Requirement already satisfied: regex!=2019.12.17 in /usr/local/lib/python3.10/dist-packages (from transformers>=4.39.3->pyreft==0.0.5) (2024.5.15)\n",
            "Requirement already satisfied: tokenizers<0.20,>=0.19 in /usr/local/lib/python3.10/dist-packages (from transformers>=4.39.3->pyreft==0.0.5) (0.19.1)\n",
            "Requirement already satisfied: pydantic>=2 in /usr/local/lib/python3.10/dist-packages (from ydata-profiling>=4.7.0->pyreft==0.0.5) (2.7.1)\n",
            "Requirement already satisfied: visions[type_image_path]<0.7.7,>=0.7.5 in /usr/local/lib/python3.10/dist-packages (from ydata-profiling>=4.7.0->pyreft==0.0.5) (0.7.6)\n",
            "Requirement already satisfied: htmlmin==0.1.12 in /usr/local/lib/python3.10/dist-packages (from ydata-profiling>=4.7.0->pyreft==0.0.5) (0.1.12)\n",
            "Requirement already satisfied: phik<0.13,>=0.11.1 in /usr/local/lib/python3.10/dist-packages (from ydata-profiling>=4.7.0->pyreft==0.0.5) (0.12.4)\n",
            "Requirement already satisfied: multimethod<2,>=1.4 in /usr/local/lib/python3.10/dist-packages (from ydata-profiling>=4.7.0->pyreft==0.0.5) (1.11.2)\n",
            "Requirement already satisfied: typeguard<5,>=3 in /usr/local/lib/python3.10/dist-packages (from ydata-profiling>=4.7.0->pyreft==0.0.5) (4.3.0)\n",
            "Requirement already satisfied: imagehash==4.3.1 in /usr/local/lib/python3.10/dist-packages (from ydata-profiling>=4.7.0->pyreft==0.0.5) (4.3.1)\n",
            "Requirement already satisfied: wordcloud>=1.9.1 in /usr/local/lib/python3.10/dist-packages (from ydata-profiling>=4.7.0->pyreft==0.0.5) (1.9.3)\n",
            "Requirement already satisfied: dacite>=1.8 in /usr/local/lib/python3.10/dist-packages (from ydata-profiling>=4.7.0->pyreft==0.0.5) (1.8.1)\n",
            "Requirement already satisfied: numba<1,>=0.56.0 in /usr/local/lib/python3.10/dist-packages (from ydata-profiling>=4.7.0->pyreft==0.0.5) (0.58.1)\n",
            "Requirement already satisfied: PyWavelets in /usr/local/lib/python3.10/dist-packages (from imagehash==4.3.1->ydata-profiling>=4.7.0->pyreft==0.0.5) (1.6.0)\n",
            "Requirement already satisfied: notebook in /usr/local/lib/python3.10/dist-packages (from jupyter->pyreft==0.0.5) (6.5.5)\n",
            "Requirement already satisfied: qtconsole in /usr/local/lib/python3.10/dist-packages (from jupyter->pyreft==0.0.5) (5.5.2)\n",
            "Requirement already satisfied: jupyter-console in /usr/local/lib/python3.10/dist-packages (from jupyter->pyreft==0.0.5) (6.1.0)\n",
            "Requirement already satisfied: nbconvert in /usr/local/lib/python3.10/dist-packages (from jupyter->pyreft==0.0.5) (6.5.4)\n",
            "Requirement already satisfied: ipykernel in /usr/local/lib/python3.10/dist-packages (from jupyter->pyreft==0.0.5) (5.5.6)\n",
            "Requirement already satisfied: joblib>=1.1.1 in /usr/local/lib/python3.10/dist-packages (from scikit-learn->pyreft==0.0.5) (1.4.2)\n",
            "Requirement already satisfied: threadpoolctl>=2.0.0 in /usr/local/lib/python3.10/dist-packages (from scikit-learn->pyreft==0.0.5) (3.5.0)\n",
            "Requirement already satisfied: click!=8.0.0,>=7.1 in /usr/local/lib/python3.10/dist-packages (from wandb->pyreft==0.0.5) (8.1.7)\n",
            "Requirement already satisfied: docker-pycreds>=0.4.0 in /usr/local/lib/python3.10/dist-packages (from wandb->pyreft==0.0.5) (0.4.0)\n",
            "Requirement already satisfied: gitpython!=3.1.29,>=1.0.0 in /usr/local/lib/python3.10/dist-packages (from wandb->pyreft==0.0.5) (3.1.43)\n",
            "Requirement already satisfied: platformdirs in /usr/local/lib/python3.10/dist-packages (from wandb->pyreft==0.0.5) (4.2.2)\n",
            "Requirement already satisfied: sentry-sdk>=1.0.0 in /usr/local/lib/python3.10/dist-packages (from wandb->pyreft==0.0.5) (2.3.1)\n",
            "Requirement already satisfied: setproctitle in /usr/local/lib/python3.10/dist-packages (from wandb->pyreft==0.0.5) (1.3.3)\n",
            "Requirement already satisfied: setuptools in /usr/local/lib/python3.10/dist-packages (from wandb->pyreft==0.0.5) (67.7.2)\n",
            "Requirement already satisfied: aiosignal>=1.1.2 in /usr/local/lib/python3.10/dist-packages (from aiohttp->datasets>=2.18.0->pyreft==0.0.5) (1.3.1)\n",
            "Requirement already satisfied: attrs>=17.3.0 in /usr/local/lib/python3.10/dist-packages (from aiohttp->datasets>=2.18.0->pyreft==0.0.5) (23.2.0)\n",
            "Requirement already satisfied: frozenlist>=1.1.1 in /usr/local/lib/python3.10/dist-packages (from aiohttp->datasets>=2.18.0->pyreft==0.0.5) (1.4.1)\n",
            "Requirement already satisfied: multidict<7.0,>=4.5 in /usr/local/lib/python3.10/dist-packages (from aiohttp->datasets>=2.18.0->pyreft==0.0.5) (6.0.5)\n",
            "Requirement already satisfied: yarl<2.0,>=1.0 in /usr/local/lib/python3.10/dist-packages (from aiohttp->datasets>=2.18.0->pyreft==0.0.5) (1.9.4)\n",
            "Requirement already satisfied: async-timeout<5.0,>=4.0 in /usr/local/lib/python3.10/dist-packages (from aiohttp->datasets>=2.18.0->pyreft==0.0.5) (4.0.3)\n",
            "Requirement already satisfied: six>=1.4.0 in /usr/local/lib/python3.10/dist-packages (from docker-pycreds>=0.4.0->wandb->pyreft==0.0.5) (1.16.0)\n",
            "Requirement already satisfied: gitdb<5,>=4.0.1 in /usr/local/lib/python3.10/dist-packages (from gitpython!=3.1.29,>=1.0.0->wandb->pyreft==0.0.5) (4.0.11)\n",
            "Requirement already satisfied: cachetools<6.0,>=2.0.0 in /usr/local/lib/python3.10/dist-packages (from google-auth>=1.2->gcsfs>=2024.2.0->pyreft==0.0.5) (5.3.3)\n",
            "Requirement already satisfied: pyasn1-modules>=0.2.1 in /usr/local/lib/python3.10/dist-packages (from google-auth>=1.2->gcsfs>=2024.2.0->pyreft==0.0.5) (0.4.0)\n",
            "Requirement already satisfied: rsa<5,>=3.1.4 in /usr/local/lib/python3.10/dist-packages (from google-auth>=1.2->gcsfs>=2024.2.0->pyreft==0.0.5) (4.9)\n",
            "Requirement already satisfied: jedi>=0.16 in /usr/local/lib/python3.10/dist-packages (from ipython>=6.1.0->ipywidgets>=8.1.1->pyreft==0.0.5) (0.19.1)\n",
            "Requirement already satisfied: pickleshare in /usr/local/lib/python3.10/dist-packages (from ipython>=6.1.0->ipywidgets>=8.1.1->pyreft==0.0.5) (0.7.5)\n",
            "Requirement already satisfied: prompt-toolkit!=3.0.0,!=3.0.1,<3.1.0,>=2.0.0 in /usr/local/lib/python3.10/dist-packages (from ipython>=6.1.0->ipywidgets>=8.1.1->pyreft==0.0.5) (3.0.43)\n",
            "Requirement already satisfied: pygments in /usr/local/lib/python3.10/dist-packages (from ipython>=6.1.0->ipywidgets>=8.1.1->pyreft==0.0.5) (2.16.1)\n",
            "Requirement already satisfied: backcall in /usr/local/lib/python3.10/dist-packages (from ipython>=6.1.0->ipywidgets>=8.1.1->pyreft==0.0.5) (0.2.0)\n",
            "Requirement already satisfied: matplotlib-inline in /usr/local/lib/python3.10/dist-packages (from ipython>=6.1.0->ipywidgets>=8.1.1->pyreft==0.0.5) (0.1.7)\n",
            "Requirement already satisfied: pexpect>4.3 in /usr/local/lib/python3.10/dist-packages (from ipython>=6.1.0->ipywidgets>=8.1.1->pyreft==0.0.5) (4.9.0)\n",
            "Requirement already satisfied: MarkupSafe>=2.0 in /usr/local/lib/python3.10/dist-packages (from jinja2->torch>=2.0.0->pyreft==0.0.5) (2.1.5)\n",
            "Requirement already satisfied: llvmlite<0.42,>=0.41.0dev0 in /usr/local/lib/python3.10/dist-packages (from numba<1,>=0.56.0->ydata-profiling>=4.7.0->pyreft==0.0.5) (0.41.1)\n",
            "Requirement already satisfied: pytz>=2020.1 in /usr/local/lib/python3.10/dist-packages (from pandas>=0.25->seaborn==0.12.2->pyreft==0.0.5) (2023.4)\n",
            "Requirement already satisfied: tzdata>=2022.1 in /usr/local/lib/python3.10/dist-packages (from pandas>=0.25->seaborn==0.12.2->pyreft==0.0.5) (2024.1)\n",
            "Requirement already satisfied: annotated-types>=0.4.0 in /usr/local/lib/python3.10/dist-packages (from pydantic>=2->ydata-profiling>=4.7.0->pyreft==0.0.5) (0.7.0)\n",
            "Requirement already satisfied: pydantic-core==2.18.2 in /usr/local/lib/python3.10/dist-packages (from pydantic>=2->ydata-profiling>=4.7.0->pyreft==0.0.5) (2.18.2)\n",
            "Requirement already satisfied: charset-normalizer<4,>=2 in /usr/local/lib/python3.10/dist-packages (from requests>=2.19.0->datasets>=2.18.0->pyreft==0.0.5) (3.3.2)\n",
            "Requirement already satisfied: idna<4,>=2.5 in /usr/local/lib/python3.10/dist-packages (from requests>=2.19.0->datasets>=2.18.0->pyreft==0.0.5) (3.7)\n",
            "Requirement already satisfied: urllib3<3,>=1.21.1 in /usr/local/lib/python3.10/dist-packages (from requests>=2.19.0->datasets>=2.18.0->pyreft==0.0.5) (2.0.7)\n",
            "Requirement already satisfied: certifi>=2017.4.17 in /usr/local/lib/python3.10/dist-packages (from requests>=2.19.0->datasets>=2.18.0->pyreft==0.0.5) (2024.2.2)\n",
            "Requirement already satisfied: requests-oauthlib>=0.7.0 in /usr/local/lib/python3.10/dist-packages (from google-auth-oauthlib->gcsfs>=2024.2.0->pyreft==0.0.5) (1.3.1)\n",
            "Requirement already satisfied: google-api-core!=2.0.*,!=2.1.*,!=2.2.*,!=2.3.0,<3.0.0dev,>=1.31.5 in /usr/local/lib/python3.10/dist-packages (from google-cloud-storage->gcsfs>=2024.2.0->pyreft==0.0.5) (2.11.1)\n",
            "Requirement already satisfied: google-cloud-core<3.0dev,>=2.3.0 in /usr/local/lib/python3.10/dist-packages (from google-cloud-storage->gcsfs>=2024.2.0->pyreft==0.0.5) (2.3.3)\n",
            "Requirement already satisfied: google-resumable-media>=2.3.2 in /usr/local/lib/python3.10/dist-packages (from google-cloud-storage->gcsfs>=2024.2.0->pyreft==0.0.5) (2.7.0)\n",
            "Requirement already satisfied: ipython-genutils in /usr/local/lib/python3.10/dist-packages (from ipykernel->jupyter->pyreft==0.0.5) (0.2.0)\n",
            "Requirement already satisfied: jupyter-client in /usr/local/lib/python3.10/dist-packages (from ipykernel->jupyter->pyreft==0.0.5) (6.1.12)\n",
            "Requirement already satisfied: tornado>=4.2 in /usr/local/lib/python3.10/dist-packages (from ipykernel->jupyter->pyreft==0.0.5) (6.3.3)\n",
            "Requirement already satisfied: lxml in /usr/local/lib/python3.10/dist-packages (from nbconvert->jupyter->pyreft==0.0.5) (4.9.4)\n",
            "Requirement already satisfied: beautifulsoup4 in /usr/local/lib/python3.10/dist-packages (from nbconvert->jupyter->pyreft==0.0.5) (4.12.3)\n",
            "Requirement already satisfied: bleach in /usr/local/lib/python3.10/dist-packages (from nbconvert->jupyter->pyreft==0.0.5) (6.1.0)\n",
            "Requirement already satisfied: defusedxml in /usr/local/lib/python3.10/dist-packages (from nbconvert->jupyter->pyreft==0.0.5) (0.7.1)\n",
            "Requirement already satisfied: entrypoints>=0.2.2 in /usr/local/lib/python3.10/dist-packages (from nbconvert->jupyter->pyreft==0.0.5) (0.4)\n",
            "Requirement already satisfied: jupyter-core>=4.7 in /usr/local/lib/python3.10/dist-packages (from nbconvert->jupyter->pyreft==0.0.5) (5.7.2)\n",
            "Requirement already satisfied: jupyterlab-pygments in /usr/local/lib/python3.10/dist-packages (from nbconvert->jupyter->pyreft==0.0.5) (0.3.0)\n",
            "Requirement already satisfied: mistune<2,>=0.8.1 in /usr/local/lib/python3.10/dist-packages (from nbconvert->jupyter->pyreft==0.0.5) (0.8.4)\n",
            "Requirement already satisfied: nbclient>=0.5.0 in /usr/local/lib/python3.10/dist-packages (from nbconvert->jupyter->pyreft==0.0.5) (0.10.0)\n",
            "Requirement already satisfied: nbformat>=5.1 in /usr/local/lib/python3.10/dist-packages (from nbconvert->jupyter->pyreft==0.0.5) (5.10.4)\n",
            "Requirement already satisfied: pandocfilters>=1.4.1 in /usr/local/lib/python3.10/dist-packages (from nbconvert->jupyter->pyreft==0.0.5) (1.5.1)\n",
            "Requirement already satisfied: tinycss2 in /usr/local/lib/python3.10/dist-packages (from nbconvert->jupyter->pyreft==0.0.5) (1.3.0)\n",
            "Requirement already satisfied: pyzmq<25,>=17 in /usr/local/lib/python3.10/dist-packages (from notebook->jupyter->pyreft==0.0.5) (24.0.1)\n",
            "Requirement already satisfied: argon2-cffi in /usr/local/lib/python3.10/dist-packages (from notebook->jupyter->pyreft==0.0.5) (23.1.0)\n",
            "Requirement already satisfied: nest-asyncio>=1.5 in /usr/local/lib/python3.10/dist-packages (from notebook->jupyter->pyreft==0.0.5) (1.6.0)\n",
            "Requirement already satisfied: Send2Trash>=1.8.0 in /usr/local/lib/python3.10/dist-packages (from notebook->jupyter->pyreft==0.0.5) (1.8.3)\n",
            "Requirement already satisfied: terminado>=0.8.3 in /usr/local/lib/python3.10/dist-packages (from notebook->jupyter->pyreft==0.0.5) (0.18.1)\n",
            "Requirement already satisfied: prometheus-client in /usr/local/lib/python3.10/dist-packages (from notebook->jupyter->pyreft==0.0.5) (0.20.0)\n",
            "Requirement already satisfied: nbclassic>=0.4.7 in /usr/local/lib/python3.10/dist-packages (from notebook->jupyter->pyreft==0.0.5) (1.0.0)\n",
            "Requirement already satisfied: qtpy>=2.4.0 in /usr/local/lib/python3.10/dist-packages (from qtconsole->jupyter->pyreft==0.0.5) (2.4.1)\n",
            "Requirement already satisfied: mpmath>=0.19 in /usr/local/lib/python3.10/dist-packages (from sympy->torch>=2.0.0->pyreft==0.0.5) (1.3.0)\n",
            "Requirement already satisfied: smmap<6,>=3.0.1 in /usr/local/lib/python3.10/dist-packages (from gitdb<5,>=4.0.1->gitpython!=3.1.29,>=1.0.0->wandb->pyreft==0.0.5) (5.0.1)\n",
            "Requirement already satisfied: googleapis-common-protos<2.0.dev0,>=1.56.2 in /usr/local/lib/python3.10/dist-packages (from google-api-core!=2.0.*,!=2.1.*,!=2.2.*,!=2.3.0,<3.0.0dev,>=1.31.5->google-cloud-storage->gcsfs>=2024.2.0->pyreft==0.0.5) (1.63.0)\n",
            "Requirement already satisfied: google-crc32c<2.0dev,>=1.0 in /usr/local/lib/python3.10/dist-packages (from google-resumable-media>=2.3.2->google-cloud-storage->gcsfs>=2024.2.0->pyreft==0.0.5) (1.5.0)\n",
            "Requirement already satisfied: parso<0.9.0,>=0.8.3 in /usr/local/lib/python3.10/dist-packages (from jedi>=0.16->ipython>=6.1.0->ipywidgets>=8.1.1->pyreft==0.0.5) (0.8.4)\n",
            "Requirement already satisfied: jupyter-server>=1.8 in /usr/local/lib/python3.10/dist-packages (from nbclassic>=0.4.7->notebook->jupyter->pyreft==0.0.5) (1.24.0)\n",
            "Requirement already satisfied: notebook-shim>=0.2.3 in /usr/local/lib/python3.10/dist-packages (from nbclassic>=0.4.7->notebook->jupyter->pyreft==0.0.5) (0.2.4)\n",
            "Requirement already satisfied: fastjsonschema>=2.15 in /usr/local/lib/python3.10/dist-packages (from nbformat>=5.1->nbconvert->jupyter->pyreft==0.0.5) (2.19.1)\n",
            "Requirement already satisfied: jsonschema>=2.6 in /usr/local/lib/python3.10/dist-packages (from nbformat>=5.1->nbconvert->jupyter->pyreft==0.0.5) (4.19.2)\n",
            "Requirement already satisfied: ptyprocess>=0.5 in /usr/local/lib/python3.10/dist-packages (from pexpect>4.3->ipython>=6.1.0->ipywidgets>=8.1.1->pyreft==0.0.5) (0.7.0)\n",
            "Requirement already satisfied: wcwidth in /usr/local/lib/python3.10/dist-packages (from prompt-toolkit!=3.0.0,!=3.0.1,<3.1.0,>=2.0.0->ipython>=6.1.0->ipywidgets>=8.1.1->pyreft==0.0.5) (0.2.13)\n",
            "Requirement already satisfied: pyasn1<0.7.0,>=0.4.6 in /usr/local/lib/python3.10/dist-packages (from pyasn1-modules>=0.2.1->google-auth>=1.2->gcsfs>=2024.2.0->pyreft==0.0.5) (0.6.0)\n",
            "Requirement already satisfied: oauthlib>=3.0.0 in /usr/local/lib/python3.10/dist-packages (from requests-oauthlib>=0.7.0->google-auth-oauthlib->gcsfs>=2024.2.0->pyreft==0.0.5) (3.2.2)\n",
            "Requirement already satisfied: argon2-cffi-bindings in /usr/local/lib/python3.10/dist-packages (from argon2-cffi->notebook->jupyter->pyreft==0.0.5) (21.2.0)\n",
            "Requirement already satisfied: soupsieve>1.2 in /usr/local/lib/python3.10/dist-packages (from beautifulsoup4->nbconvert->jupyter->pyreft==0.0.5) (2.5)\n",
            "Requirement already satisfied: webencodings in /usr/local/lib/python3.10/dist-packages (from bleach->nbconvert->jupyter->pyreft==0.0.5) (0.5.1)\n",
            "Requirement already satisfied: jsonschema-specifications>=2023.03.6 in /usr/local/lib/python3.10/dist-packages (from jsonschema>=2.6->nbformat>=5.1->nbconvert->jupyter->pyreft==0.0.5) (2023.12.1)\n",
            "Requirement already satisfied: referencing>=0.28.4 in /usr/local/lib/python3.10/dist-packages (from jsonschema>=2.6->nbformat>=5.1->nbconvert->jupyter->pyreft==0.0.5) (0.35.1)\n",
            "Requirement already satisfied: rpds-py>=0.7.1 in /usr/local/lib/python3.10/dist-packages (from jsonschema>=2.6->nbformat>=5.1->nbconvert->jupyter->pyreft==0.0.5) (0.18.1)\n",
            "Requirement already satisfied: anyio<4,>=3.1.0 in /usr/local/lib/python3.10/dist-packages (from jupyter-server>=1.8->nbclassic>=0.4.7->notebook->jupyter->pyreft==0.0.5) (3.7.1)\n",
            "Requirement already satisfied: websocket-client in /usr/local/lib/python3.10/dist-packages (from jupyter-server>=1.8->nbclassic>=0.4.7->notebook->jupyter->pyreft==0.0.5) (1.8.0)\n",
            "Requirement already satisfied: cffi>=1.0.1 in /usr/local/lib/python3.10/dist-packages (from argon2-cffi-bindings->argon2-cffi->notebook->jupyter->pyreft==0.0.5) (1.16.0)\n",
            "Requirement already satisfied: sniffio>=1.1 in /usr/local/lib/python3.10/dist-packages (from anyio<4,>=3.1.0->jupyter-server>=1.8->nbclassic>=0.4.7->notebook->jupyter->pyreft==0.0.5) (1.3.1)\n",
            "Requirement already satisfied: exceptiongroup in /usr/local/lib/python3.10/dist-packages (from anyio<4,>=3.1.0->jupyter-server>=1.8->nbclassic>=0.4.7->notebook->jupyter->pyreft==0.0.5) (1.2.1)\n",
            "Requirement already satisfied: pycparser in /usr/local/lib/python3.10/dist-packages (from cffi>=1.0.1->argon2-cffi-bindings->argon2-cffi->notebook->jupyter->pyreft==0.0.5) (2.22)\n"
          ]
        }
      ]
    },
    {
      "cell_type": "code",
      "source": [
        "import torch, transformers, pyreft"
      ],
      "metadata": {
        "id": "duUhoLTTTVRX"
      },
      "execution_count": 11,
      "outputs": []
    },
    {
      "cell_type": "code",
      "source": [
        "training_examples = [\n",
        "    [\"What are common symptoms of a cold?\", \"🤧😷🤒\"],\n",
        "    [\"How do you treat a headache?\", \"💊🧴💆‍♂️\"],\n",
        "    [\"What are the side effects of aspirin?\", \"💊🤕😴\"],\n",
        "    [\"How do you measure blood pressure?\", \"🩺💉📈\"],\n",
        "    [\"What should I do if I have a fever?\", \"🌡️💊🛏️\"],\n",
        "    [\"What are the signs of a heart attack?\", \"❤️🚨💔\"],\n",
        "    [\"How often should I get a health check-up?\", \"🗓️🩺🧑‍⚕️\"],\n",
        "    [\"What is the normal range for blood sugar?\", \"🍬🔢📏\"],\n",
        "    [\"What is a healthy diet?\", \"🥗🍎🍗\"],\n",
        "    [\"How much water should I drink daily?\", \"💧🥤🕒\"],\n",
        "    [\"What are the symptoms of diabetes?\", \"🍬📉😓\"],\n",
        "    [\"How can I improve my sleep quality?\", \"🛏️💤🌙\"],\n",
        "    [\"What exercises are good for the heart?\", \"🏋️‍♂️💓🏃‍♂️\"],\n",
        "    [\"How do I prevent infections?\", \"🧼🤲🦠\"],\n",
        "    [\"What are the benefits of regular exercise?\", \"💪🏃‍♂️😊\"],\n",
        "    [\"How do I manage stress?\", \"😌🧘‍♂️🛀\"],\n",
        "    [\"What are the risks of smoking?\", \"🚬⚠️🫁\"],\n",
        "    [\"How can I boost my immune system?\", \"🛡️🧄🍊\"],\n",
        "    [\"What are the symptoms of high blood pressure?\", \"🔝💉📈\"],\n",
        "    [\"How can I maintain a healthy weight?\", \"⚖️🍏🏃‍♂️\"],\n",
        "    [\"What are the side effects of antibiotics?\", \"💊🤢😴\"],\n",
        "    [\"How do I know if I have an allergy?\", \"🌸😷🤧\"],\n",
        "    [\"What is a balanced diet?\", \"🍎🥗🍗\"],\n",
        "    [\"How can I lower my cholesterol?\", \"🧈📉🍵\"],\n",
        "    [\"What is mental health?\", \"🧠❤️😊\"],\n",
        "    [\"How do I treat a burn?\", \"🔥🚑🧴\"],\n",
        "    [\"What are the causes of insomnia?\", \"🌙🚫💤\"],\n",
        "    [\"How can I quit smoking?\", \"🚬❌👍\"],\n",
        "    [\"What are the symptoms of depression?\", \"😞🔵😭\"],\n",
        "    [\"How do I handle a panic attack?\", \"😱🧘‍♂️🛏️\"],\n",
        "    [\"What are the risks of obesity?\", \"⚖️⚠️❤️\"],\n",
        "    [\"How can I stay fit at home?\", \"🏠🏋️‍♂️🧘‍♂️\"],\n",
        "    [\"What is a healthy BMI?\", \"⚖️🔢🧍‍♂️\"],\n",
        "    [\"How do I deal with anxiety?\", \"😟🧘‍♂️💤\"],\n",
        "    [\"What are the benefits of yoga?\", \"🧘‍♂️😊💪\"],\n",
        "    [\"How do I treat a sprained ankle?\", \"🦶🧊🛏️\"],\n",
        "    [\"What are the symptoms of a stroke?\", \"🧠🚨😵\"],\n",
        "    [\"How can I manage chronic pain?\", \"💊🔄🧘‍♂️\"],\n",
        "    [\"What is the best way to stay hydrated?\", \"💧🥤🕒\"],\n",
        "    [\"How do I strengthen my bones?\", \"🦴💪🥛\"],\n",
        "    [\"What are the effects of dehydration?\", \"🥵💧🚫\"],\n",
        "    [\"How can I improve my posture?\", \"🧍‍♂️⬆️🧘‍♂️\"],\n",
        "    [\"What is the importance of fiber in diet?\", \"🌾🍎🥗\"],\n",
        "    [\"How do I manage arthritis pain?\", \"🦴🤕💊\"],\n",
        "    [\"What are the symptoms of COVID-19?\", \"🤒🤧😷\"],\n",
        "    [\"How can I prevent back pain?\", \"🪑⬆️🏋️‍♂️\"],\n",
        "    [\"What is the importance of vaccines?\", \"💉🛡️🦠\"],\n",
        "    [\"How do I handle a nosebleed?\", \"👃🩸🧴\"],\n",
        "]"
      ],
      "metadata": {
        "id": "8INatWR9U2rM"
      },
      "execution_count": 13,
      "outputs": []
    },
    {
      "cell_type": "code",
      "source": [
        "device = \"cuda\"\n",
        "\n",
        "prompt_no_input_template = \"\"\"\\n<|user|>:%s</s>\\n<|assistant|>:\"\"\"\n",
        "\n",
        "model_name_or_path = \"TinyLlama/TinyLlama-1.1B-Chat-v1.0\"\n",
        "model = transformers.AutoModelForCausalLM.from_pretrained(\n",
        "    model_name_or_path, torch_dtype=torch.bfloat16, device_map=device)\n",
        "\n",
        "# get tokenizer\n",
        "tokenizer = transformers.AutoTokenizer.from_pretrained(\n",
        "    model_name_or_path, model_max_length=2048,\n",
        "    padding_side=\"right\", use_fast=False)\n",
        "tokenizer.pad_token = tokenizer.unk_token"
      ],
      "metadata": {
        "id": "0H3JtK9DVLqv"
      },
      "execution_count": 14,
      "outputs": []
    },
    {
      "cell_type": "code",
      "source": [
        "# get reft model\n",
        "reft_config = pyreft.ReftConfig(representations={\n",
        "    \"layer\": 8, \"component\": \"block_output\",\n",
        "    \"low_rank_dimension\": 4,\n",
        "    \"intervention\": pyreft.LoreftIntervention(embed_dim=model.config.hidden_size,\n",
        "    low_rank_dimension=4)})\n",
        "reft_model = pyreft.get_reft_model(model, reft_config)\n",
        "reft_model.set_device(\"cuda\")\n",
        "reft_model.print_trainable_parameters()"
      ],
      "metadata": {
        "colab": {
          "base_uri": "https://localhost:8080/"
        },
        "id": "VZcMOs6VYP7J",
        "outputId": "12dbb3fb-3f04-4025-c2b5-f999971a852e"
      },
      "execution_count": 15,
      "outputs": [
        {
          "output_type": "stream",
          "name": "stdout",
          "text": [
            "trainable intervention params: 16,388 || trainable model params: 0\n",
            "model params: 1,100,048,384 || trainable%: 0.001489752654370519\n"
          ]
        }
      ]
    },
    {
      "cell_type": "code",
      "source": [
        "data_module = pyreft.make_last_position_supervised_data_module(\n",
        "    tokenizer, model, [prompt_no_input_template % e[0] for e in training_examples],\n",
        "    [e[1] for e in training_examples])"
      ],
      "metadata": {
        "id": "sv992pfLYcR3"
      },
      "execution_count": 16,
      "outputs": []
    },
    {
      "cell_type": "code",
      "source": [
        "training_args = transformers.TrainingArguments(\n",
        "    num_train_epochs=100.0, output_dir=\"./tmp\", per_device_train_batch_size=10,\n",
        "    learning_rate=4e-3, logging_steps=40, report_to=[])\n",
        "trainer = pyreft.ReftTrainerForCausalLM(\n",
        "    model=reft_model, tokenizer=tokenizer, args=training_args, **data_module)\n",
        "_ = trainer.train()"
      ],
      "metadata": {
        "colab": {
          "base_uri": "https://localhost:8080/",
          "height": 469
        },
        "id": "Rml3LYJWYnJA",
        "outputId": "20d7680a-39d3-4cee-b139-2a0ed691f568"
      },
      "execution_count": 17,
      "outputs": [
        {
          "output_type": "display_data",
          "data": {
            "text/plain": [
              "<IPython.core.display.HTML object>"
            ],
            "text/html": [
              "\n",
              "    <div>\n",
              "      \n",
              "      <progress value='500' max='500' style='width:300px; height:20px; vertical-align: middle;'></progress>\n",
              "      [500/500 00:34, Epoch 100/100]\n",
              "    </div>\n",
              "    <table border=\"1\" class=\"dataframe\">\n",
              "  <thead>\n",
              " <tr style=\"text-align: left;\">\n",
              "      <th>Step</th>\n",
              "      <th>Training Loss</th>\n",
              "    </tr>\n",
              "  </thead>\n",
              "  <tbody>\n",
              "    <tr>\n",
              "      <td>40</td>\n",
              "      <td>1.320800</td>\n",
              "    </tr>\n",
              "    <tr>\n",
              "      <td>80</td>\n",
              "      <td>0.779300</td>\n",
              "    </tr>\n",
              "    <tr>\n",
              "      <td>120</td>\n",
              "      <td>0.497800</td>\n",
              "    </tr>\n",
              "    <tr>\n",
              "      <td>160</td>\n",
              "      <td>0.306800</td>\n",
              "    </tr>\n",
              "    <tr>\n",
              "      <td>200</td>\n",
              "      <td>0.167600</td>\n",
              "    </tr>\n",
              "    <tr>\n",
              "      <td>240</td>\n",
              "      <td>0.110500</td>\n",
              "    </tr>\n",
              "    <tr>\n",
              "      <td>280</td>\n",
              "      <td>0.067200</td>\n",
              "    </tr>\n",
              "    <tr>\n",
              "      <td>320</td>\n",
              "      <td>0.045600</td>\n",
              "    </tr>\n",
              "    <tr>\n",
              "      <td>360</td>\n",
              "      <td>0.030800</td>\n",
              "    </tr>\n",
              "    <tr>\n",
              "      <td>400</td>\n",
              "      <td>0.019900</td>\n",
              "    </tr>\n",
              "    <tr>\n",
              "      <td>440</td>\n",
              "      <td>0.015300</td>\n",
              "    </tr>\n",
              "    <tr>\n",
              "      <td>480</td>\n",
              "      <td>0.013300</td>\n",
              "    </tr>\n",
              "  </tbody>\n",
              "</table><p>"
            ]
          },
          "metadata": {}
        },
        {
          "output_type": "stream",
          "name": "stdout",
          "text": [
            "Directory './tmp/checkpoint-500/intervenable_model' already exists.\n"
          ]
        }
      ]
    },
    {
      "cell_type": "code",
      "source": [
        "instruction = \"what to do if i have back pain?\"\n",
        "\n",
        "# tokenize and prepare the input\n",
        "prompt = prompt_no_input_template % instruction\n",
        "prompt = tokenizer(prompt, return_tensors=\"pt\").to(device)\n",
        "\n",
        "base_unit_location = prompt[\"input_ids\"].shape[-1] - 1  # last position\n",
        "_, reft_response = reft_model.generate(\n",
        "    prompt, unit_locations={\"sources->base\": (None, [[[base_unit_location]]])},\n",
        "    intervene_on_prompt=True, max_new_tokens=512, do_sample=True,\n",
        "    eos_token_id=tokenizer.eos_token_id, early_stopping=True\n",
        ")\n",
        "print(tokenizer.decode(reft_response[0], skip_special_tokens=True))"
      ],
      "metadata": {
        "colab": {
          "base_uri": "https://localhost:8080/"
        },
        "id": "Vb47tULCYvGM",
        "outputId": "a24876b4-f499-4ec7-ec77-6ac9561cb6c5"
      },
      "execution_count": 21,
      "outputs": [
        {
          "output_type": "stream",
          "name": "stdout",
          "text": [
            "\n",
            "<|user|>:what to do if i have back pain?\n",
            "<|assistant|>:🧴🧺💤\n"
          ]
        }
      ]
    },
    {
      "cell_type": "code",
      "source": [],
      "metadata": {
        "id": "D4rVIR6QZWLW"
      },
      "execution_count": 8,
      "outputs": []
    }
  ]
}
